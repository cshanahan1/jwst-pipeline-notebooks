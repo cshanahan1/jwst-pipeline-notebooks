{
 "cells": [
  {
   "cell_type": "markdown",
   "metadata": {},
   "source": [
    "# This example notebook shows how to create a source catalog through the JWST pipeline source_catalog step\n",
    "\n",
    "The specifics are done for a NIRCAM Grism direct image, since the catalog is needed to define the source locations in the grism observation so that the spectral bounding boxes for each order can be extracted for each object. "
   ]
  },
  {
   "cell_type": "code",
   "execution_count": null,
   "metadata": {},
   "outputs": [],
   "source": [
    "%matplotlib inline\n",
    "import os\n",
    "import jwst\n",
    "import numpy as np\n",
    "from astropy.io import fits\n",
    "print(\"Using jwst pipeline version: {}\".format(jwst.__version__))"
   ]
  },
  {
   "cell_type": "markdown",
   "metadata": {},
   "source": [
    "### I'm going to use a simulated image as an example, the cell below details its file structure\n",
    "**Make sure that you have set the JWST_NOTEBOOK_DATA environment variable in the terminal from which you started Jupyter Notebook.**\n",
    "\n",
    "The data will be read from that directory, and the pipeline should write to the current working directory, avoiding clobbers. "
   ]
  },
  {
   "cell_type": "code",
   "execution_count": null,
   "metadata": {},
   "outputs": [],
   "source": [
    "data_dir = os.environ['JWST_NOTEBOOK_DATA']\n",
    "nircam_data= data_dir + 'data/nircam/'\n",
    "grism_direct_image = nircam_data + 'nircam_grism_direct_image.fits'\n",
    "fits.info(grism_direct_image)"
   ]
  },
  {
   "cell_type": "markdown",
   "metadata": {},
   "source": [
    "### Let's take a visual look at the image we are using"
   ]
  },
  {
   "cell_type": "code",
   "execution_count": null,
   "metadata": {},
   "outputs": [],
   "source": [
    "from matplotlib import pyplot as plt\n",
    "dirim = fits.getdata(grism_direct_image, ext=1)\n",
    "xs,ys=dirim.shape\n",
    "fig = plt.figure(figsize=(4,4), dpi=150)\n",
    "ax = fig.add_subplot(1, 1, 1)\n",
    "ax.set_adjustable('box-forced')\n",
    "ax.set_title(grism_direct_image.split(\"/\")[-1], fontsize=8)\n",
    "ax.imshow(dirim, origin='lower', extent=[0,xs,0,ys], vmin=-10, vmax=10)"
   ]
  },
  {
   "cell_type": "markdown",
   "metadata": {},
   "source": [
    "### Import the catalog creation step from the pipeline"
   ]
  },
  {
   "cell_type": "code",
   "execution_count": null,
   "metadata": {},
   "outputs": [],
   "source": [
    "from jwst.source_catalog import source_catalog_step"
   ]
  },
  {
   "cell_type": "markdown",
   "metadata": {},
   "source": [
    "### Create the step object, it knows how to create the catalog when it's given a data model"
   ]
  },
  {
   "cell_type": "code",
   "execution_count": null,
   "metadata": {},
   "outputs": [],
   "source": [
    "sc=source_catalog_step.SourceCatalogStep()"
   ]
  },
  {
   "cell_type": "markdown",
   "metadata": {},
   "source": [
    "### These are the default step parameters"
   ]
  },
  {
   "cell_type": "code",
   "execution_count": null,
   "metadata": {},
   "outputs": [],
   "source": [
    "print(sc.spec)"
   ]
  },
  {
   "cell_type": "markdown",
   "metadata": {},
   "source": [
    "### This step only works on Drizzle products and single drizzle FITS images\n",
    "You can open the fits image into a datamodel or you can supply the step with the name of the FITS image directly"
   ]
  },
  {
   "cell_type": "code",
   "execution_count": null,
   "metadata": {},
   "outputs": [],
   "source": [
    "# Here we'll use a DataModel\n",
    "from jwst.datamodels import DrizProductModel\n",
    "dpm=DrizProductModel(grism_direct_image)"
   ]
  },
  {
   "cell_type": "code",
   "execution_count": null,
   "metadata": {},
   "outputs": [],
   "source": [
    "sc.process(dpm)"
   ]
  },
  {
   "cell_type": "code",
   "execution_count": null,
   "metadata": {},
   "outputs": [],
   "source": [
    "from astropy.table import QTable\n",
    "source_catalog = 'nircam_grism_direct_image_cat.ecsv'  # this name is listed in the output of the process above"
   ]
  },
  {
   "cell_type": "markdown",
   "metadata": {},
   "source": [
    "### The INFO log suggests that's too many sources, let's see how we did\n",
    "The catalog cat be read is as an astropy quantities table"
   ]
  },
  {
   "cell_type": "code",
   "execution_count": null,
   "metadata": {},
   "outputs": [],
   "source": [
    "catalog = QTable.read(source_catalog,  format='ascii.ecsv')"
   ]
  },
  {
   "cell_type": "code",
   "execution_count": null,
   "metadata": {},
   "outputs": [],
   "source": [
    "catalog"
   ]
  },
  {
   "cell_type": "markdown",
   "metadata": {},
   "source": [
    "### Overplot the object detections on our image"
   ]
  },
  {
   "cell_type": "code",
   "execution_count": null,
   "metadata": {},
   "outputs": [],
   "source": [
    "import matplotlib.patches as patches\n",
    "dirim = fits.getdata(grism_direct_image, ext=1)\n",
    "xs,ys=dirim.shape\n",
    "fig = plt.figure(figsize=(4,4), dpi=150)\n",
    "ax.ticklabel_format(useOffset=False)\n",
    "ax = fig.add_subplot(1, 1, 1)\n",
    "ax.ticklabel_format(useOffset=False)\n",
    "ax.set_adjustable('box-forced')\n",
    "ax.set_title(grism_direct_image.split(\"/\")[-1], fontsize=8)\n",
    "ax.imshow(dirim, origin='lower', extent=[0,xs,0,ys], vmin=-10, vmax=10)\n",
    "\n",
    "# rectangle patches are xmin, ymin, width, height\n",
    "plist1=[]\n",
    "for obj in catalog:\n",
    "    plist1.append(patches.Circle((obj['xcentroid'].value, obj['ycentroid'].value),10))\n",
    "\n",
    "for p in plist1:\n",
    "    ax.add_patch(p)\n",
    "    \n",
    "ax.imshow(dirim, origin='lower', extent=[0,xs,0,ys], vmin=-10, vmax=10)"
   ]
  },
  {
   "cell_type": "markdown",
   "metadata": {},
   "source": [
    "### Looks like we should edit the defaults so that we can restrict the detections to the visible objects"
   ]
  },
  {
   "cell_type": "code",
   "execution_count": null,
   "metadata": {},
   "outputs": [],
   "source": [
    "# as a reminder, these are the defaults\n",
    "print(sc.spec)"
   ]
  },
  {
   "cell_type": "markdown",
   "metadata": {},
   "source": [
    "### The defaults can be changes in the step object directly"
   ]
  },
  {
   "cell_type": "code",
   "execution_count": null,
   "metadata": {},
   "outputs": [],
   "source": [
    "sc.npixels=20\n",
    "sc.snr_threshold=5\n",
    "sc(dpm)"
   ]
  },
  {
   "cell_type": "code",
   "execution_count": null,
   "metadata": {},
   "outputs": [],
   "source": [
    "# Read the new table that was created\n",
    "catalog = QTable.read(source_catalog,  format='ascii.ecsv')\n",
    "dirim = fits.getdata(grism_direct_image, ext=1)\n",
    "xs,ys=dirim.shape\n",
    "fig = plt.figure(figsize=(4,4), dpi=150)\n",
    "ax.ticklabel_format(useOffset=False)\n",
    "ax = fig.add_subplot(1, 1, 1)\n",
    "ax.ticklabel_format(useOffset=False)\n",
    "ax.set_adjustable('box-forced')\n",
    "ax.set_title(grism_direct_image.split(\"/\")[-1], fontsize=8)\n",
    "ax.imshow(dirim, origin='lower', extent=[0,xs,0,ys], vmin=-10, vmax=10)\n",
    "\n",
    "# rectangle patches are xmin, ymin, width, height\n",
    "plist1=[]\n",
    "for obj in catalog:\n",
    "    plist1.append(patches.Circle((obj['xcentroid'].value, obj['ycentroid'].value),10))\n",
    "\n",
    "for p in plist1:\n",
    "    ax.add_patch(p)\n",
    "    \n",
    "ax.imshow(dirim, origin='lower', extent=[0,xs,0,ys], vmin=-10, vmax=10)"
   ]
  },
  {
   "cell_type": "markdown",
   "metadata": {},
   "source": [
    "### Not bad!  There were two nearby sources that were not deblended, but we'll leave that for now."
   ]
  },
  {
   "cell_type": "code",
   "execution_count": null,
   "metadata": {},
   "outputs": [],
   "source": [
    "# checkout the final catalog\n",
    "print(source_catalog)\n",
    "catalog"
   ]
  },
  {
   "cell_type": "code",
   "execution_count": null,
   "metadata": {},
   "outputs": [],
   "source": []
  }
 ],
 "metadata": {
  "kernelspec": {
   "display_name": "Python 3",
   "language": "python",
   "name": "python3"
  },
  "language_info": {
   "codemirror_mode": {
    "name": "ipython",
    "version": 3
   },
   "file_extension": ".py",
   "mimetype": "text/x-python",
   "name": "python",
   "nbconvert_exporter": "python",
   "pygments_lexer": "ipython3",
   "version": "3.5.4"
  }
 },
 "nbformat": 4,
 "nbformat_minor": 2
}
